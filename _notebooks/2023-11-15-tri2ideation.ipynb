{
 "cells": [
  {
   "cell_type": "markdown",
   "metadata": {},
   "source": [
    "---\n",
    "comments: true\n",
    "layout: notebook\n",
    "title: Trimester 2 - DuClick Ideation\n",
    "description: Ideation ticket for our trimester 2 warm-up project that uses inheritance, sorting, and space-time complexity analysis.\n",
    "type: tangibles\n",
    "courses: { compsci: {week: 13} }\n",
    "categories: [C4.1]\n",
    "---"
   ]
  },
  {
   "cell_type": "markdown",
   "metadata": {},
   "source": [
    "### Current Status\n",
    "\n",
    "| Category | Explanation |\n",
    "| --- | --- |\n",
    "| Purpose | The purpose of DuClick is to use the cookie-clicker style of game to demonstrate our team's understanding of inheritance, sorting, and complexity analysis using Big O Notation |\n",
    "| Inheritance | Our upgrades will all be child classes of our Upgrade class, with attributes such as current cost, level, and name. Another possible idea we had is to divide the upgrades into two types: automatic upgrades and manual upgrades. We then have child classes of each unique upgrade that extend the parent classes, following the same logic as the first idea. |\n",
    "| Sorting | The upgrades are listed in the game view as they would usually be. However, they would be sorted by level. This would be achieved by the program re-sorting the upgrades each time an upgrade was leveled up. |\n",
    "| Complexity | Since we're currently using Bubble Sort in our frontend, the time complexity in Big O Notation is *O(n) = n<sup>2</sup>* |"
   ]
  },
  {
   "cell_type": "markdown",
   "metadata": {},
   "source": [
    "### Current Progress\n",
    "\n",
    "Here is our [runtime Link](https://nvarap.github.io/CSA_Tri2_Project1/AC_cookie-clicker.html)\n",
    "\n",
    "Below is an image of our current frontend:\n",
    "\n",
    "<img src=\"https://private-user-images.githubusercontent.com/77122110/285985086-b7aa826e-b130-4be7-b85e-7e84f687a5bc.png?jwt=eyJhbGciOiJIUzI1NiIsInR5cCI6IkpXVCJ9.eyJpc3MiOiJnaXRodWIuY29tIiwiYXVkIjoicmF3LmdpdGh1YnVzZXJjb250ZW50LmNvbSIsImtleSI6ImtleTEiLCJleHAiOjE3MDExMTM1MTMsIm5iZiI6MTcwMTExMzIxMywicGF0aCI6Ii83NzEyMjExMC8yODU5ODUwODYtYjdhYTgyNmUtYjEzMC00YmU3LWI4NWUtN2U4NGY2ODdhNWJjLnBuZz9YLUFtei1BbGdvcml0aG09QVdTNC1ITUFDLVNIQTI1NiZYLUFtei1DcmVkZW50aWFsPUFLSUFJV05KWUFYNENTVkVINTNBJTJGMjAyMzExMjclMkZ1cy1lYXN0LTElMkZzMyUyRmF3czRfcmVxdWVzdCZYLUFtei1EYXRlPTIwMjMxMTI3VDE5MjY1M1omWC1BbXotRXhwaXJlcz0zMDAmWC1BbXotU2lnbmF0dXJlPTU1YmYzMjlhY2ZkM2VjZDU5OWUyY2NlZmViYTliNjNlZmM4NjhjMWUxYTU4NzczNzRlZTQzYjJlNWQ3NzQzYzgmWC1BbXotU2lnbmVkSGVhZGVycz1ob3N0JmFjdG9yX2lkPTAma2V5X2lkPTAmcmVwb19pZD0wIn0.D7x7qPU1lzUOXy2Ra_IaYQFWRAjqzfvauERXXGf-SHA\">\n",
    "\n",
    "And below are the key parts of our frontend code that make the game work:\n",
    "\n",
    "- Upgrades table (cookie is simply an image with an ID referenced in the JS, not worth showing):\n",
    "\n",
    "<img src=\"https://private-user-images.githubusercontent.com/77122110/285985071-6551cba1-b433-4fe1-83a3-8271830c1493.png?jwt=eyJhbGciOiJIUzI1NiIsInR5cCI6IkpXVCJ9.eyJpc3MiOiJnaXRodWIuY29tIiwiYXVkIjoicmF3LmdpdGh1YnVzZXJjb250ZW50LmNvbSIsImtleSI6ImtleTEiLCJleHAiOjE3MDExMTM1MTMsIm5iZiI6MTcwMTExMzIxMywicGF0aCI6Ii83NzEyMjExMC8yODU5ODUwNzEtNjU1MWNiYTEtYjQzMy00ZmUxLTgzYTMtODI3MTgzMGMxNDkzLnBuZz9YLUFtei1BbGdvcml0aG09QVdTNC1ITUFDLVNIQTI1NiZYLUFtei1DcmVkZW50aWFsPUFLSUFJV05KWUFYNENTVkVINTNBJTJGMjAyMzExMjclMkZ1cy1lYXN0LTElMkZzMyUyRmF3czRfcmVxdWVzdCZYLUFtei1EYXRlPTIwMjMxMTI3VDE5MjY1M1omWC1BbXotRXhwaXJlcz0zMDAmWC1BbXotU2lnbmF0dXJlPWUyYzZmODA5MmNkNzhkNDhlMTI0ZGE0MmVkOWY3NjJhNDRkNGQ3NDkyYzY0N2NlMjFiZDk5ZTlmNzM4ZmY3ZmUmWC1BbXotU2lnbmVkSGVhZGVycz1ob3N0JmFjdG9yX2lkPTAma2V5X2lkPTAmcmVwb19pZD0wIn0.onL-UDSzrTCFUxa6oixtjukimXBzmGo_fYUIp94_oXM\">\n",
    "\n",
    "- Variables used in the JavaScript:\n",
    "\n",
    "<img src=\"https://private-user-images.githubusercontent.com/77122110/285985083-54b5fc81-4cb5-44fe-ab11-693282aca5ec.png?jwt=eyJhbGciOiJIUzI1NiIsInR5cCI6IkpXVCJ9.eyJpc3MiOiJnaXRodWIuY29tIiwiYXVkIjoicmF3LmdpdGh1YnVzZXJjb250ZW50LmNvbSIsImtleSI6ImtleTEiLCJleHAiOjE3MDExMTM1MTMsIm5iZiI6MTcwMTExMzIxMywicGF0aCI6Ii83NzEyMjExMC8yODU5ODUwODMtNTRiNWZjODEtNGNiNS00NGZlLWFiMTEtNjkzMjgyYWNhNWVjLnBuZz9YLUFtei1BbGdvcml0aG09QVdTNC1ITUFDLVNIQTI1NiZYLUFtei1DcmVkZW50aWFsPUFLSUFJV05KWUFYNENTVkVINTNBJTJGMjAyMzExMjclMkZ1cy1lYXN0LTElMkZzMyUyRmF3czRfcmVxdWVzdCZYLUFtei1EYXRlPTIwMjMxMTI3VDE5MjY1M1omWC1BbXotRXhwaXJlcz0zMDAmWC1BbXotU2lnbmF0dXJlPWIxYjU1YjYzM2YyMDdjOWFkZWYwNzZhMTJjZGNmYjJhZmQ3OWE2YmRhZWM2MDFiODI2ZjY5MGQ5NzRjN2IwMDkmWC1BbXotU2lnbmVkSGVhZGVycz1ob3N0JmFjdG9yX2lkPTAma2V5X2lkPTAmcmVwb19pZD0wIn0.r2k4Ix8w7eSV1gttK31N0YrFcikUNZ1t2Lo1eAgqQpM\">\n",
    "\n",
    "- Handling cookie clicking that plays animation and triggers point increase:\n",
    "\n",
    "<img src=\"https://private-user-images.githubusercontent.com/77122110/285985061-86d96511-f87d-4941-b7b1-24ea3a8bb0f8.png?jwt=eyJhbGciOiJIUzI1NiIsInR5cCI6IkpXVCJ9.eyJpc3MiOiJnaXRodWIuY29tIiwiYXVkIjoicmF3LmdpdGh1YnVzZXJjb250ZW50LmNvbSIsImtleSI6ImtleTEiLCJleHAiOjE3MDExMTM1MTMsIm5iZiI6MTcwMTExMzIxMywicGF0aCI6Ii83NzEyMjExMC8yODU5ODUwNjEtODZkOTY1MTEtZjg3ZC00OTQxLWI3YjEtMjRlYTNhOGJiMGY4LnBuZz9YLUFtei1BbGdvcml0aG09QVdTNC1ITUFDLVNIQTI1NiZYLUFtei1DcmVkZW50aWFsPUFLSUFJV05KWUFYNENTVkVINTNBJTJGMjAyMzExMjclMkZ1cy1lYXN0LTElMkZzMyUyRmF3czRfcmVxdWVzdCZYLUFtei1EYXRlPTIwMjMxMTI3VDE5MjY1M1omWC1BbXotRXhwaXJlcz0zMDAmWC1BbXotU2lnbmF0dXJlPWE1NTJiNWI1ODY4NjI3NDRhNzJiM2YzMDYwYzJmODNiYWJiNTZjM2Y2OTJkYjVmMmY3MmY2MzRkYzAyOWViMjMmWC1BbXotU2lnbmVkSGVhZGVycz1ob3N0JmFjdG9yX2lkPTAma2V5X2lkPTAmcmVwb19pZD0wIn0.qNECrhPfu64cbLPZOgHNxdMPEyin26o0A7yokYiFC9I\">\n",
    "\n",
    "- Function referenced in above image, update the cookie points in the HTML:\n",
    "\n",
    "<img src=\"https://private-user-images.githubusercontent.com/77122110/285985076-26a94925-3d5b-46d1-8168-24f6c415ae0a.png?jwt=eyJhbGciOiJIUzI1NiIsInR5cCI6IkpXVCJ9.eyJpc3MiOiJnaXRodWIuY29tIiwiYXVkIjoicmF3LmdpdGh1YnVzZXJjb250ZW50LmNvbSIsImtleSI6ImtleTEiLCJleHAiOjE3MDExMTM1MTMsIm5iZiI6MTcwMTExMzIxMywicGF0aCI6Ii83NzEyMjExMC8yODU5ODUwNzYtMjZhOTQ5MjUtM2Q1Yi00NmQxLTgxNjgtMjRmNmM0MTVhZTBhLnBuZz9YLUFtei1BbGdvcml0aG09QVdTNC1ITUFDLVNIQTI1NiZYLUFtei1DcmVkZW50aWFsPUFLSUFJV05KWUFYNENTVkVINTNBJTJGMjAyMzExMjclMkZ1cy1lYXN0LTElMkZzMyUyRmF3czRfcmVxdWVzdCZYLUFtei1EYXRlPTIwMjMxMTI3VDE5MjY1M1omWC1BbXotRXhwaXJlcz0zMDAmWC1BbXotU2lnbmF0dXJlPTcyNDRjMTc4MGJhNTI2YzYxMzNmZDZmOWNjYWViNzdjNzc5YmY0YWI5YWE3YzJmZWI3MmY0NDAwNjE1Yjk4NGEmWC1BbXotU2lnbmVkSGVhZGVycz1ob3N0JmFjdG9yX2lkPTAma2V5X2lkPTAmcmVwb19pZD0wIn0.txaFII7CUL7hTK_dmLc2ceLsvsYPjMNu7X6Lc_qMhNE\">\n",
    "\n",
    "- Auto-Clicker. When bought, use the setInterval() JS method to automatically increase points by certain amount:\n",
    "\n",
    "<img src=\"https://private-user-images.githubusercontent.com/77122110/285985058-62dffacb-48a0-4403-8d0a-49a6b3955ad0.png?jwt=eyJhbGciOiJIUzI1NiIsInR5cCI6IkpXVCJ9.eyJpc3MiOiJnaXRodWIuY29tIiwiYXVkIjoicmF3LmdpdGh1YnVzZXJjb250ZW50LmNvbSIsImtleSI6ImtleTEiLCJleHAiOjE3MDExMTM1MTMsIm5iZiI6MTcwMTExMzIxMywicGF0aCI6Ii83NzEyMjExMC8yODU5ODUwNTgtNjJkZmZhY2ItNDhhMC00NDAzLThkMGEtNDlhNmIzOTU1YWQwLnBuZz9YLUFtei1BbGdvcml0aG09QVdTNC1ITUFDLVNIQTI1NiZYLUFtei1DcmVkZW50aWFsPUFLSUFJV05KWUFYNENTVkVINTNBJTJGMjAyMzExMjclMkZ1cy1lYXN0LTElMkZzMyUyRmF3czRfcmVxdWVzdCZYLUFtei1EYXRlPTIwMjMxMTI3VDE5MjY1M1omWC1BbXotRXhwaXJlcz0zMDAmWC1BbXotU2lnbmF0dXJlPWI2NjljNzQzNGI3MDcyN2M0ZmE4MTM0MzBiZjU2NTgzMzVmMzE4MTI3ZmI5OTJlZWRkNzQ5ZTIxMGE2MGU0YmEmWC1BbXotU2lnbmVkSGVhZGVycz1ob3N0JmFjdG9yX2lkPTAma2V5X2lkPTAmcmVwb19pZD0wIn0.eO-7_KUlwq_9gCS5enIwxU2c5q2YNeuLJ0Sf8SmXxkI\">\n",
    "\n",
    "- Clicker upgrader. When bought, clicking on the cookie yields more points than before:\n",
    "\n",
    "<img src=\"https://private-user-images.githubusercontent.com/77122110/285985060-a570965e-e77a-47ef-bc3c-ca98d5d7bfac.png?jwt=eyJhbGciOiJIUzI1NiIsInR5cCI6IkpXVCJ9.eyJpc3MiOiJnaXRodWIuY29tIiwiYXVkIjoicmF3LmdpdGh1YnVzZXJjb250ZW50LmNvbSIsImtleSI6ImtleTEiLCJleHAiOjE3MDExMTM1MTMsIm5iZiI6MTcwMTExMzIxMywicGF0aCI6Ii83NzEyMjExMC8yODU5ODUwNjAtYTU3MDk2NWUtZTc3YS00N2VmLWJjM2MtY2E5OGQ1ZDdiZmFjLnBuZz9YLUFtei1BbGdvcml0aG09QVdTNC1ITUFDLVNIQTI1NiZYLUFtei1DcmVkZW50aWFsPUFLSUFJV05KWUFYNENTVkVINTNBJTJGMjAyMzExMjclMkZ1cy1lYXN0LTElMkZzMyUyRmF3czRfcmVxdWVzdCZYLUFtei1EYXRlPTIwMjMxMTI3VDE5MjY1M1omWC1BbXotRXhwaXJlcz0zMDAmWC1BbXotU2lnbmF0dXJlPWY4NTRiM2NmZjYzNDdlMWJlMTY2Njc2Mjc5YWExMDA1NmEyOTYyMDk4YzU2NzlkMTQ2MTY5ZTZiMTdjMjliOWYmWC1BbXotU2lnbmVkSGVhZGVycz1ob3N0JmFjdG9yX2lkPTAma2V5X2lkPTAmcmVwb19pZD0wIn0.1oCsHwpG4owJwFWO-1Qvfune0t7vzkEUOqLkIPF3Pco\">\n",
    "\n",
    "- If the costs stayed the same, the game would become very easy very fast, so we increase the cost as shown below:\n",
    "\n",
    "<img src=\"https://private-user-images.githubusercontent.com/77122110/285985074-c5116dec-8473-484a-95db-e91e6e1d14c2.png?jwt=eyJhbGciOiJIUzI1NiIsInR5cCI6IkpXVCJ9.eyJpc3MiOiJnaXRodWIuY29tIiwiYXVkIjoicmF3LmdpdGh1YnVzZXJjb250ZW50LmNvbSIsImtleSI6ImtleTEiLCJleHAiOjE3MDExMTM1MTMsIm5iZiI6MTcwMTExMzIxMywicGF0aCI6Ii83NzEyMjExMC8yODU5ODUwNzQtYzUxMTZkZWMtODQ3My00ODRhLTk1ZGItZTkxZTZlMWQxNGMyLnBuZz9YLUFtei1BbGdvcml0aG09QVdTNC1ITUFDLVNIQTI1NiZYLUFtei1DcmVkZW50aWFsPUFLSUFJV05KWUFYNENTVkVINTNBJTJGMjAyMzExMjclMkZ1cy1lYXN0LTElMkZzMyUyRmF3czRfcmVxdWVzdCZYLUFtei1EYXRlPTIwMjMxMTI3VDE5MjY1M1omWC1BbXotRXhwaXJlcz0zMDAmWC1BbXotU2lnbmF0dXJlPTcxYmY0NjliMzY0MzIxODhmYWUzMjk0ZWQzNjdhZDJhOTJjODU3NjMzZjM5YzA2NWIyM2RjMTg3YzgzMTIxMDgmWC1BbXotU2lnbmVkSGVhZGVycz1ob3N0JmFjdG9yX2lkPTAma2V5X2lkPTAmcmVwb19pZD0wIn0.1rYU8jqJA15p-aXwTbL-2rXZOChSHQYgcA0PiVmXI0A\">\n",
    "\n",
    "- Using sorting in our program proven through sorting the table by level:\n",
    "\n",
    "<img src=\"https://private-user-images.githubusercontent.com/77122110/285985066-ae056dc8-a3f3-4434-a506-94bd3d58f99e.png?jwt=eyJhbGciOiJIUzI1NiIsInR5cCI6IkpXVCJ9.eyJpc3MiOiJnaXRodWIuY29tIiwiYXVkIjoicmF3LmdpdGh1YnVzZXJjb250ZW50LmNvbSIsImtleSI6ImtleTEiLCJleHAiOjE3MDExMTM1MTMsIm5iZiI6MTcwMTExMzIxMywicGF0aCI6Ii83NzEyMjExMC8yODU5ODUwNjYtYWUwNTZkYzgtYTNmMy00NDM0LWE1MDYtOTRiZDNkNThmOTllLnBuZz9YLUFtei1BbGdvcml0aG09QVdTNC1ITUFDLVNIQTI1NiZYLUFtei1DcmVkZW50aWFsPUFLSUFJV05KWUFYNENTVkVINTNBJTJGMjAyMzExMjclMkZ1cy1lYXN0LTElMkZzMyUyRmF3czRfcmVxdWVzdCZYLUFtei1EYXRlPTIwMjMxMTI3VDE5MjY1M1omWC1BbXotRXhwaXJlcz0zMDAmWC1BbXotU2lnbmF0dXJlPTI2OTZhYmMyOWZlMzNhYjQ4OGYzMmQwZjhiYjhkMGU1ZGE1OGY0MTJlYjc2OGI4ZWQ5NGE0NGJiN2U0MTU0ZTgmWC1BbXotU2lnbmVkSGVhZGVycz1ob3N0JmFjdG9yX2lkPTAma2V5X2lkPTAmcmVwb19pZD0wIn0.220KJXnyk7cC3LLrBJxjJ297BKeHifB-SA1D9uepoDQ\">"
   ]
  },
  {
   "cell_type": "markdown",
   "metadata": {},
   "source": [
    "## Improvements\n",
    "\n",
    "Our code is good. For a beginner's project. We are second-year CSA students. This is our warm-up project. We can do better. Here are some of the things we plan to improve on in our ideation:\n",
    "\n",
    "- Better-looking layout\n",
    "- Better architecture (frontend and backend connecting)\n",
    "- Implementing object-oriented programming (inheritance) in the Java code instead of JS imperative programming on the frontend.\n",
    "\n",
    "### For A Better-Looking Layout:\n",
    "\n",
    "Below are some of the layout options we are considering building off of:\n",
    "\n",
    "<table>\n",
    "    <tr>\n",
    "        <td>\n",
    "            <img src=\"https://private-user-images.githubusercontent.com/77122110/285985040-53ab2811-bd87-4352-9cce-00b8e4829da2.jpg?jwt=eyJhbGciOiJIUzI1NiIsInR5cCI6IkpXVCJ9.eyJpc3MiOiJnaXRodWIuY29tIiwiYXVkIjoicmF3LmdpdGh1YnVzZXJjb250ZW50LmNvbSIsImtleSI6ImtleTEiLCJleHAiOjE3MDExMTM1MTMsIm5iZiI6MTcwMTExMzIxMywicGF0aCI6Ii83NzEyMjExMC8yODU5ODUwNDAtNTNhYjI4MTEtYmQ4Ny00MzUyLTljY2UtMDBiOGU0ODI5ZGEyLmpwZz9YLUFtei1BbGdvcml0aG09QVdTNC1ITUFDLVNIQTI1NiZYLUFtei1DcmVkZW50aWFsPUFLSUFJV05KWUFYNENTVkVINTNBJTJGMjAyMzExMjclMkZ1cy1lYXN0LTElMkZzMyUyRmF3czRfcmVxdWVzdCZYLUFtei1EYXRlPTIwMjMxMTI3VDE5MjY1M1omWC1BbXotRXhwaXJlcz0zMDAmWC1BbXotU2lnbmF0dXJlPWYxNjUyYmU1ZTI4OGMxOTlkOTU1ZjllMDA4M2IzMDEyNzhlYTI4YzYzN2MxZjU2NmVlMzMwYTU3ZDIwNGU1NmEmWC1BbXotU2lnbmVkSGVhZGVycz1ob3N0JmFjdG9yX2lkPTAma2V5X2lkPTAmcmVwb19pZD0wIn0.ccShHxWj-BClbozpkvuFk_BW7TTbDfqqHZWI6TNqOME\">\n",
    "        </td>\n",
    "        <td>\n",
    "            <img src=\"https://private-user-images.githubusercontent.com/77122110/285985047-ba7eeac3-1494-41bb-8ab2-fb72d2c78f67.jpg?jwt=eyJhbGciOiJIUzI1NiIsInR5cCI6IkpXVCJ9.eyJpc3MiOiJnaXRodWIuY29tIiwiYXVkIjoicmF3LmdpdGh1YnVzZXJjb250ZW50LmNvbSIsImtleSI6ImtleTEiLCJleHAiOjE3MDExMTM1MTMsIm5iZiI6MTcwMTExMzIxMywicGF0aCI6Ii83NzEyMjExMC8yODU5ODUwNDctYmE3ZWVhYzMtMTQ5NC00MWJiLThhYjItZmI3MmQyYzc4ZjY3LmpwZz9YLUFtei1BbGdvcml0aG09QVdTNC1ITUFDLVNIQTI1NiZYLUFtei1DcmVkZW50aWFsPUFLSUFJV05KWUFYNENTVkVINTNBJTJGMjAyMzExMjclMkZ1cy1lYXN0LTElMkZzMyUyRmF3czRfcmVxdWVzdCZYLUFtei1EYXRlPTIwMjMxMTI3VDE5MjY1M1omWC1BbXotRXhwaXJlcz0zMDAmWC1BbXotU2lnbmF0dXJlPTY5YTFlMWMwYzA1NjE4MWExN2ZlY2Q4Mzc1MTk2NmVkOGE5ZDU2ZDRmNTRjNTA0MWM3MTVhYmE1MjUyMzNmMjMmWC1BbXotU2lnbmVkSGVhZGVycz1ob3N0JmFjdG9yX2lkPTAma2V5X2lkPTAmcmVwb19pZD0wIn0.L16s99NmAEIT98TPKyeDwCeSuBIDU3pQ_D-jUwAorvQ\">\n",
    "        </td>\n",
    "        <td>\n",
    "            <img src=\"https://private-user-images.githubusercontent.com/77122110/285985053-2f5bdf10-82da-4c37-8986-07f225817835.jpg?jwt=eyJhbGciOiJIUzI1NiIsInR5cCI6IkpXVCJ9.eyJpc3MiOiJnaXRodWIuY29tIiwiYXVkIjoicmF3LmdpdGh1YnVzZXJjb250ZW50LmNvbSIsImtleSI6ImtleTEiLCJleHAiOjE3MDExMTM1MTMsIm5iZiI6MTcwMTExMzIxMywicGF0aCI6Ii83NzEyMjExMC8yODU5ODUwNTMtMmY1YmRmMTAtODJkYS00YzM3LTg5ODYtMDdmMjI1ODE3ODM1LmpwZz9YLUFtei1BbGdvcml0aG09QVdTNC1ITUFDLVNIQTI1NiZYLUFtei1DcmVkZW50aWFsPUFLSUFJV05KWUFYNENTVkVINTNBJTJGMjAyMzExMjclMkZ1cy1lYXN0LTElMkZzMyUyRmF3czRfcmVxdWVzdCZYLUFtei1EYXRlPTIwMjMxMTI3VDE5MjY1M1omWC1BbXotRXhwaXJlcz0zMDAmWC1BbXotU2lnbmF0dXJlPTc2MzNkNmFhOGNiMDNhOTYwNTJmOTcyNzliMDhhOTFhMjBhNGY5MmIyNGRjN2Y4NjFkMjY0ZDIyMTI0NDhiYzImWC1BbXotU2lnbmVkSGVhZGVycz1ob3N0JmFjdG9yX2lkPTAma2V5X2lkPTAmcmVwb19pZD0wIn0.BkQX--Uj6xffrPhC3hCxkERLYuaUoaOWBUzl4UJi33c\">\n",
    "        </td>\n",
    "        <td>\n",
    "            <img src=\"https://private-user-images.githubusercontent.com/77122110/285985056-c192c4a9-b329-4364-bb80-8a2e889c0765.jpg?jwt=eyJhbGciOiJIUzI1NiIsInR5cCI6IkpXVCJ9.eyJpc3MiOiJnaXRodWIuY29tIiwiYXVkIjoicmF3LmdpdGh1YnVzZXJjb250ZW50LmNvbSIsImtleSI6ImtleTEiLCJleHAiOjE3MDExMTM1MTMsIm5iZiI6MTcwMTExMzIxMywicGF0aCI6Ii83NzEyMjExMC8yODU5ODUwNTYtYzE5MmM0YTktYjMyOS00MzY0LWJiODAtOGEyZTg4OWMwNzY1LmpwZz9YLUFtei1BbGdvcml0aG09QVdTNC1ITUFDLVNIQTI1NiZYLUFtei1DcmVkZW50aWFsPUFLSUFJV05KWUFYNENTVkVINTNBJTJGMjAyMzExMjclMkZ1cy1lYXN0LTElMkZzMyUyRmF3czRfcmVxdWVzdCZYLUFtei1EYXRlPTIwMjMxMTI3VDE5MjY1M1omWC1BbXotRXhwaXJlcz0zMDAmWC1BbXotU2lnbmF0dXJlPTg1NmMyNDFhMzYyZjFiOGMwMWZhMjA4NDNjOWIyOWU5NGMyZDhiYzcyNmZiM2NkOWQ1N2EzYzgyMjU3MjM5YzAmWC1BbXotU2lnbmVkSGVhZGVycz1ob3N0JmFjdG9yX2lkPTAma2V5X2lkPTAmcmVwb19pZD0wIn0.GOI0v1i_5PpoNkbsgDQfbiQlub40CIByXItXzXZBSmA\">\n",
    "        </td>\n",
    "    </tr>\n",
    "</table>"
   ]
  },
  {
   "cell_type": "markdown",
   "metadata": {},
   "source": [
    "# For Better Code/Code/Code:\n",
    "\n",
    "Our current game uses simple JS to make a basic game. Is our game original? No. Does it need any of the warm-up project requirements? No. Are we going to use those requirements to make the game? Yes, because the whole purpose of making a game that already exists is to show our understanding of the requirements that we went over. In 4 days, we were able to make a working, functional template. We will be using the rest of the week and next week to use our knowledge in inheritance, sorting, and complexity analysis to make this project's purpose come to life."
   ]
  }
 ],
 "metadata": {
  "language_info": {
   "name": "python"
  }
 },
 "nbformat": 4,
 "nbformat_minor": 2
}
