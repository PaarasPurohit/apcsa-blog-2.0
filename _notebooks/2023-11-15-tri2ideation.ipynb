{
 "cells": [
  {
   "cell_type": "markdown",
   "metadata": {},
   "source": [
    "---\n",
    "comments: true\n",
    "layout: notebook\n",
    "title: Trimester 2 - DuClick Ideation\n",
    "description: Ideation ticket for our trimester 2 warm-up project that uses inheritance, sorting, and space-time complexity analysis.\n",
    "type: tangibles\n",
    "courses: { compsci: {week: 13} }\n",
    "categories: [C4.1]\n",
    "---"
   ]
  },
  {
   "cell_type": "markdown",
   "metadata": {},
   "source": [
    "### Current Status\n",
    "\n",
    "| Category | Explanation |\n",
    "| --- | --- |\n",
    "| Purpose | The purpose of DuClick is to use the cookie-clicker style of game to demonstrate our team's understanding of inheritance, sorting, and complexity analysis using Big O Notation |\n",
    "| Inheritance | Our upgrades will all be child classes of our Upgrade class, with attributes such as current cost, level, and name. Another possible idea we had is to divide the upgrades into two types: automatic upgrades and manual upgrades. We then have child classes of each unique upgrade that extend the parent classes, following the same logic as the first idea. |\n",
    "| Sorting | The upgrades are listed in the game view as they would usually be. However, they would be sorted by level. This would be achieved by the program re-sorting the upgrades each time an upgrade was leveled up. |\n",
    "| Complexity | Since we're currently using Bubble Sort in our frontend, the time complexity in Big O Notation is *O(n) = n<sup>2</sup>* |"
   ]
  },
  {
   "cell_type": "markdown",
   "metadata": {},
   "source": [
    "### Current Progress\n",
    "\n",
    "Here is our [runtime Link](https://nvarap.github.io/CSA_Tri2_Project1/AC_cookie-clicker.html)\n",
    "\n",
    "Below is an image of our current frontend:\n",
    "\n",
    "![frontend](images/Screenshot%202023-11-15%20201943.png)\n",
    "\n",
    "And below are the key parts of our frontend code that make the game work:\n",
    "\n",
    "- Upgrades table (cookie is simply an image with an ID referenced in the JS, not worth showing):\n",
    "\n",
    "![frontend-table-html](images/frontend-table-html.png)\n",
    "\n",
    "- Variables used in the JavaScript:\n",
    "\n",
    "![img](images/frontend-vars-js.png)\n",
    "\n",
    "- Handling cookie clicking that plays animation and triggers point increase:\n",
    "\n",
    "![img](images/frontend-clickCookie-func-js.png)\n",
    "\n",
    "- Function referenced in above image, update the cookie points in the HTML:\n",
    "\n",
    "![img](images/frontend-updateCounter-func-js.png)\n",
    "\n",
    "- Auto-Clicker. When bought, use the setInterval() JS method to automatically increase points by certain amount:\n",
    "\n",
    "![img](images/frontend-buyAuto-func-js.png)\n",
    "\n",
    "- Clicker upgrader. When bought, clicking on the cookie yields more points than before:\n",
    "\n",
    "![img](images/frontend-buyClick-func-js.png)\n",
    "\n",
    "- If the costs stayed the same, the game would become very easy very fast, so we increase the cost as shown below:\n",
    "\n",
    "![img](images/frontend-updateCost-func-js.png)\n",
    "\n",
    "- Using sorting in our program proven through sorting the table by level:\n",
    "\n",
    "![img](images/frontend-sortTable-func-js.png)"
   ]
  },
  {
   "cell_type": "markdown",
   "metadata": {},
   "source": [
    "## Improvements\n",
    "\n",
    "Our code is good. For a beginner's project. We are second-year CSA students. This is our warm-up project. We can do better. Here are some of the things we plan to improve on in our ideation:\n",
    "\n",
    "- Better-looking layout\n",
    "- Better architecture (frontend and backend connecting)\n",
    "- Implementing object-oriented programming (inheritance) in the Java code instead of JS imperative programming on the frontend.\n",
    "\n",
    "### For A Better-Looking Layout:\n",
    "\n",
    "Below are some of the layout options we are considering building off of:\n",
    "\n",
    "|  |  |  |  |\n",
    "| --- | --- | --- | --- |\n",
    "| ![img](images/Firefly%20Game%20screen%20for%20a%20cookie%20clicker%20video%20game,%20upgrades%20on%20one%20side,%20cookie%20on%20the%20other%2053130.jpg) | ![img](images/Firefly%20Game%20screen%20for%20a%20cookie%20clicker%20video%20game,%20upgrades%20on%20one%20side,%20cookie%20on%20the%20other%2080928.jpg) | ![img](images/Firefly%20Game%20screen%20for%20a%20cookie%20clicker%20video%20game,%20upgrades%20on%20one%20side,%20cookie%20on%20the%20other%2082738.jpg) | ![img](images/Firefly%20Game%20screen%20for%20a%20cookie%20clicker%20video%20game,%20upgrades%20on%20one%20side,%20cookie%20on%20the%20other%2097881.jpg) |"
   ]
  },
  {
   "cell_type": "markdown",
   "metadata": {},
   "source": [
    "# For Better Code/Code/Code:\n",
    "\n",
    "Our current game uses simple JS to make a basic game. Is our game original? No. Does it need any of the warm-up project requirements? No. Are we going to use those requirements to make the game? Yes, because the whole purpose of making a game that already exists is to show our understanding of the requirements that we went over. In 4 days, we were able to make a working, functional template. We will be using the rest of the week and next week to use our knowledge in inheritance, sorting, and complexity analysis to make this project's purpose come to life."
   ]
  }
 ],
 "metadata": {
  "language_info": {
   "name": "python"
  }
 },
 "nbformat": 4,
 "nbformat_minor": 2
}
