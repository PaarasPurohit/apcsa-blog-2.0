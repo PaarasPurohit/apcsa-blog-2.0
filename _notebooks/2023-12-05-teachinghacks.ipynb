{
 "cells": [
  {
   "cell_type": "markdown",
   "metadata": {},
   "source": [
    "---\n",
    "comments: true\n",
    "layout: notebook\n",
    "title: Teaching Hacks\n",
    "description: Hacks completed for Tri 2 lessons\n",
    "type: tangibles\n",
    "toc: true\n",
    "courses: { csse: {week: 0}, csp: {week: 0}, csa: {week: 14} }\n",
    "categories: [C4.1]\n",
    "---"
   ]
  },
  {
   "cell_type": "markdown",
   "metadata": {},
   "source": [
    "## Unit 1: SASS Fundamentals"
   ]
  },
  {
   "cell_type": "markdown",
   "metadata": {},
   "source": [
    "Hack Question: Can you guess what its changing style of the text to? \n",
    "\n",
    "```css\n",
    "body {\n",
    "    color: #0000FF;\n",
    "    font-family: Ariel, sans-serif;\n",
    "    font-size: 16px;\n",
    "}\n",
    "```"
   ]
  },
  {
   "cell_type": "markdown",
   "metadata": {},
   "source": [
    "**Nesting**\n",
    "\n",
    "> What is nesting? \n",
    "    > Answer here (hack question): \n",
    "- Nesting is a way to organize your code and make it easier to read. It also helps keep your code <u>DRY (Don't Repeat Yourself)</u> . \n",
    "- Nesting is when you put one selector inside another selector. This is a great way to keep your code organized and make it easier to <u>read</u>. \n",
    "- When we make HTML we often nest different <u>elements</u> within each other and have a clear structure when we look at it.\n",
    "- The problem is that in regular CSS we don't have that so we need to use SASS to help us organize our code.\n",
    "\n",
    "- Warning: Don't nest too much as when the CSS is processed it can make overqualified selectors which can be hard to read and maintain. Which means that it would only target that specific element type and not any other elements that have the same class name.\n",
    "\n",
    "**Sass Nesting**\n",
    "- Through nesting the ul, li, and a selectors within the nav selector makes your CSS better and increases its readability overall."
   ]
  },
  {
   "cell_type": "markdown",
   "metadata": {},
   "source": [
    "**Variables**\n",
    "> What is a variable?\n",
    "- A variable is a container that stores <u>information</u> so for instance when you have multiple places that refer to one value you can just use the variable name instead of the value.\n",
    "- This is valuable in SASS because it allows you to reuse that <u>value</u> in multiple places throughout your stylesheet. \n",
    "- The $ symbol is used in Sass to designate a variable. \n",
    "\n",
    "Pro Tip: The reason SASS variables are better than variables in regular CSS is that they are easier to read with a much simpler syntax. \n",
    "\n",
    "Fun Fact: Variables in SASS came before CSS and often SASS has features long before they are actually added to CSS as a whole. \n",
    "\n",
    "**Variable Example Syntax**\n",
    "- $variable-name: value;\n",
    "- Once the sass is processed the variable name is replaced with the value throughout the program."
   ]
  },
  {
   "cell_type": "markdown",
   "metadata": {},
   "source": [
    "**Mixins**: What is a mix in what are we mixing in? Answer here (hack question): \n",
    "\n",
    "> A mixin is kind of a class. If you're taking the name \"mixin\" at face value, we're \"mixing in\" different styles that other elements can include.\n",
    "\n",
    "**Inheritance**\n",
    "> What is inheritance? Answer here (hack question): \n",
    "\n",
    "- In general programming concept where the child class can <u>inherit</u> properties from the <u>parent</u> class. These properties can be changed and modified in the <u>child</u> class. This prevents code from being repeated and makes the code more usable and flexible.\n",
    "- In SASS we have a similar concept that can be used as well we can create base styles and then have other styles inherit from them and then we can change them as we please. \n",
    "- We can do that by through using @extend .name-of-class and then we can add more styles to it as we please. Simple as that."
   ]
  },
  {
   "cell_type": "markdown",
   "metadata": {},
   "source": [
    "**SASS Demo**:\n",
    "\n",
    "Below is the SASS code I used:\n",
    "\n",
    "```scss\n",
    "  // Variables\n",
    "  $primary-color: #3498db;\n",
    "  $secondary-color: #2ecc71;\n",
    "  $card-background: #ecf0f1;\n",
    "  $card-hover: #bdc3c7;\n",
    "\n",
    "  // Mixins\n",
    "  @mixin transition($property: all, $duration: 0.3s, $timing-function: ease-in-out) {\n",
    "    transition: $property $duration $timing-function;\n",
    "  }\n",
    "\n",
    "  // Styles\n",
    "  .card {\n",
    "    background-color: $card-background;\n",
    "    border-radius: 8px;\n",
    "    padding: 20px;\n",
    "    margin: 20px;\n",
    "    width: 300px;\n",
    "    box-shadow: 0 2px 4px rgba(0, 0, 0, 0.1);\n",
    "\n",
    "    // Nesting and hover effect\n",
    "    &:hover {\n",
    "      background-color: $card-hover;\n",
    "    }\n",
    "\n",
    "    // Title styling\n",
    "    h2 {\n",
    "      color: $primary-color;\n",
    "      margin-bottom: 10px;\n",
    "    }\n",
    "\n",
    "    // Content styling\n",
    "    p {\n",
    "      color: $secondary-color;\n",
    "    }\n",
    "\n",
    "    // Apply transition mixin\n",
    "    @include transition(background-color);\n",
    "  }\n",
    "\n",
    "  // Usage example\n",
    "  .container {\n",
    "    display: flex;\n",
    "    justify-content: center;\n",
    "    align-items: center;\n",
    "    height: 100vh;\n",
    "  }\n",
    "\n",
    "  // Create multiple cards with different colors\n",
    "  .card-one {\n",
    "    @extend .card;\n",
    "    $card-background: #e74c3c;\n",
    "    $card-hover: #c0392b;\n",
    "  }\n",
    "\n",
    "  .card-two {\n",
    "    @extend .card;\n",
    "    $card-background: #f39c12;\n",
    "    $card-hover: #d35400;\n",
    "  }\n",
    "\n",
    "  .card-three {\n",
    "    @extend .card;\n",
    "    $card-background: #2c3e50;\n",
    "    $card-hover: #34495e;\n",
    "\n",
    "    h2 {\n",
    "      color: #e74c3c; // Customize title color for this card\n",
    "    }\n",
    "\n",
    "    p {\n",
    "      color: #f39c12; // Customize content color for this card\n",
    "    }\n",
    "  }\n",
    "```"
   ]
  },
  {
   "cell_type": "markdown",
   "metadata": {},
   "source": [
    "And here is the [running project](https://nvarap.github.io/CSA_Tri2_Project1/sass-ui-demo)"
   ]
  }
 ],
 "metadata": {
  "kernelspec": {
   "display_name": "Java",
   "language": "java",
   "name": "java"
  },
  "language_info": {
   "codemirror_mode": "java",
   "file_extension": ".jshell",
   "mimetype": "text/x-java-source",
   "name": "Java",
   "pygments_lexer": "java",
   "version": "17.0.8.1+1-Ubuntu-0ubuntu120.04"
  }
 },
 "nbformat": 4,
 "nbformat_minor": 2
}
