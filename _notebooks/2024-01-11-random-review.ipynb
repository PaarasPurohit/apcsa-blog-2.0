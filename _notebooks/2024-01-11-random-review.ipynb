{
 "cells": [
  {
   "cell_type": "markdown",
   "metadata": {},
   "source": [
    "---\n",
    "comments: true\n",
    "layout: notebook\n",
    "title: Review\n",
    "description: xx\n",
    "type: tangibles\n",
    "toc: true\n",
    "courses: { csa: {week: 15} }\n",
    "categories: [C4.1]\n",
    "---"
   ]
  },
  {
   "cell_type": "markdown",
   "metadata": {},
   "source": [
    "### Key Assets/Commits\n",
    "| Asset |\n",
    "| --- |\n",
    "| [Tri 1 Frontend](https://github.com/PaarasPurohit/team-premium-frontend) |\n",
    "| [Tri 2 Backend](https://github.com/PaarasPurohit/team-premium-backend-final) |\n",
    "| [Tri 1 Blog](https://github.com/PaarasPurohit/apcsa-blog-2024) |\n",
    "| [Tri 1 Backend](https://github.com/PaarasPurohit/team-premium-backend) |\n",
    "| [Tri 2 Warm-Up](https://nvarap.github.io/CSA_Tri2_Project1/project) |\n",
    "\n",
    "### CollegeBoard Prep:\n",
    "\n",
    "From both MCQ's, I have been targeting the points that I missed on the MCQ's or that were hard for me to answer both through our PBL's and by watching the CollegeBoard videos. I have also been doing practice problems on my own time. A lot of my CollegeBoard prep is still to be discussed, since I am currently in office hours.\n",
    "\n",
    "### Passions for the Upcoming Project\n",
    "\n",
    "I want to be able to divide this project into tasks that I can look forward to completing. Our ideation consisted of taking our interests and narrowing it down to something we all have in common. Another big part of it was coming up with a clever idea with a mix of our own interests. This is why I'm motivated to make this project very good. I am also passionate about taking the lessons we learned from the beginning of the trimester through student teaching and seeing how I can uniquely apply them to our own project.\n",
    "\n",
    "### Extra: AP Exam Prep Through This Project\n",
    "\n",
    "I wanted to discuss how I can best prepare for the AP Exam through this project. Of course, I will still be doing practice problems, debugging old problems, and taking notes on CollegeBoard videos, but I wanted to know if there was a surefire way to strengthen skills for the AP Exam through our PBL."
   ]
  }
 ],
 "metadata": {
  "language_info": {
   "name": "python"
  }
 },
 "nbformat": 4,
 "nbformat_minor": 2
}
