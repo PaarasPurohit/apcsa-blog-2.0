{
 "cells": [
  {
   "cell_type": "markdown",
   "metadata": {},
   "source": [
    "---\n",
    "comments: true\n",
    "layout: notebook\n",
    "title: Ideation With CSA Resources\n",
    "description: This notebook will serve to establish how our ideation connects to the student lessons as well as Mr. Mortensen's post-winter break tech talks.\n",
    "type: tangibles\n",
    "toc: true\n",
    "courses: { csa: {week: 15} }\n",
    "categories: [C4.1]\n",
    "---"
   ]
  },
  {
   "cell_type": "markdown",
   "metadata": {},
   "source": [
    "## Ideation Summary\n",
    "\n",
    "<img src=\"{{ site.baseurl }}/images/Ideation.png\">"
   ]
  },
  {
   "cell_type": "markdown",
   "metadata": {},
   "source": [
    "## UX & Styling with SASS\n",
    "\n",
    "Our user experience will be different than our previous projects. We will opt for a bouncier, more playful user experience, similar to that of modern Google applications or Apple's operating system. Another thing that will change from previous projects is that we will use SASS files in our _sass directory to style our website as opposed to long rules of CSS in the header of our screens.\n",
    "\n",
    "## jQuery & CRUD\n",
    "\n",
    "Building more on user experience, we will be using jQuery to better represent data that we pull from the backend, API's, etc. We will be using the lessons taught in user experience along with the CRUD operations being applied in jQuery to optimize the data representation aspect of our frontend part of our project.\n",
    "\n",
    "## ThymeLeaf\n",
    "\n",
    "To account for administrators of our application, our backend must have its own optimized user experience. To achieve this, we will use the ThymeLeaf lesson to create an easy-to-use administrator panel for authorized users in our application.\n",
    "\n",
    "## HashMap\n",
    "\n",
    "Our backend code is planned to be as efficient as possible. To achieve this, we will use what we learned in the HashMap lesson to better create, get, set, and remove data in our backend programs.\n",
    "\n",
    "## JWT\n",
    "\n",
    "Since our group taught this lesson, we will have no trouble at all creating secure and organized connections from the frontend and backend sides of our project as well as understanding how they all work. We will find success in this by using JWT, and since we not only learned it, but taught it, we will make short work of making successful security and authorization systems for parts of our application that include login, user authentication, and signing in.\n",
    "\n",
    "## Creative & Collaborative Culture\n",
    "\n",
    "Our team picked an idea from our personal interests, which supports our personal absolute freedom to code anything. Since this is a project derived from our own interests, we will also have little problems dividing work into smaller tasks to make it more motivating to work on. Since our project is an idea/concept hub with a dating-site-esque user interaction, it has a productivity factor in it.\n",
    "\n",
    "## Ideation Image\n",
    "\n",
    "Linked [here](https://www.canva.com/design/DAF5s-Wgyzw/xkbFiBmd0GHrGXO4ahJ1wQ/view?mode=prototype) is our design assets."
   ]
  }
 ],
 "metadata": {
  "kernelspec": {
   "display_name": "Java",
   "language": "java",
   "name": "java"
  },
  "language_info": {
   "name": "java"
  }
 },
 "nbformat": 4,
 "nbformat_minor": 2
}
