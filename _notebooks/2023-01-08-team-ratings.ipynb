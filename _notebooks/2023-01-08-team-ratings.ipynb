{
 "cells": [
  {
   "cell_type": "markdown",
   "metadata": {},
   "source": [
    "---\n",
    "comments: true\n",
    "layout: notebook\n",
    "title: Team Teach Grading\n",
    "description: Grading my team members' performance as well as our team grading/teaching as a whole\n",
    "type: tangibles\n",
    "toc: true\n",
    "courses: { csa: {week: 15} }\n",
    "categories: [C4.1]\n",
    "---"
   ]
  },
  {
   "cell_type": "markdown",
   "metadata": {},
   "source": [
    "### Individual/Team engagement rating: .45 of .50 basis (.30 did not participate to .45 instrumental participation)\n",
    "\n",
    "| Team Member | Grade | Explanation |\n",
    "| --- | --- | --- |\n",
    "| Varaprasad | 0.45 | Varaprasad did thorough research that provided detail and sound information to our lesson |\n",
    "| Tanay | 0.45 | Without Tanay, we wouldn't have had sound information or a good presentation overall. His work on presenting the pros and cons really helped tie a crucial part of our lesson together |\n",
    "| Rachit | 0.45 | Rachit's live demo was vital to our lesson, as it provided it with a hands-on real application of what we were teaching, making the lesson much better and more engaging. |\n",
    "| Tanisha | 0.45 | Tanisha and Luna's work on the overall structure of the first half of the lesson really made the information and teaching of JWT so much better. |\n",
    "| Luna | 0.45 | Tanisha and Luna's work on the overall structure of the first half of the lesson really made the information and teaching of JWT so much better. |\n",
    "\n",
    "### Logistics with Teacher .50 basis, provide evidence\n",
    "\n",
    "| Criteria | Grade | Evidence |\n",
    "| --- | --- | --- |\n",
    "| Lesson posted and comments | TBD | I did the pull request for our team and had it up with utterances on the Teacher Portfolio. |\n",
    "| Grading complete and on time | TBD | Since almost all students themselves did not get it on time, we had to dely our grading. |\n",
    "| Elements of creativity or success | TBD | Rachit's live demo, me tying the lesson back to CollegeBoard concepts, Varaprasad tying the lesson to the Thymeleaf lesson |"
   ]
  }
 ],
 "metadata": {
  "kernelspec": {
   "display_name": "Java",
   "language": "java",
   "name": "java"
  },
  "language_info": {
   "name": "java"
  }
 },
 "nbformat": 4,
 "nbformat_minor": 2
}
