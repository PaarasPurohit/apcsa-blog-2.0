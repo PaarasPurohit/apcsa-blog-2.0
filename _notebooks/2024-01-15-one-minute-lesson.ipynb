{
 "cells": [
  {
   "cell_type": "markdown",
   "metadata": {},
   "source": [
    "---\n",
    "comments: true\n",
    "layout: notebook\n",
    "title: 1-Minute CollegeBoard Lesson\n",
    "description: Explaining question 39 on the 2015 CollegeBoard multiple-choice in one minute, along with a popcorn hack.\n",
    "type: tangibles\n",
    "toc: true\n",
    "courses: { csa: {week: 15} }\n",
    "categories: [C4.1]\n",
    "---"
   ]
  },
  {
   "cell_type": "markdown",
   "metadata": {},
   "source": [
    "### Question 39 (5-Minute Lesson):\n",
    "\n",
    "#### Problem:\n",
    "\n",
    "Consider the following code segment:"
   ]
  },
  {
   "cell_type": "code",
   "execution_count": null,
   "metadata": {},
   "outputs": [],
   "source": [
    "List<String> students = new ArrayList<String>();\n",
    "\n",
    "students.add(\"Alex\");\n",
    "students.add(\"Bob\");\n",
    "students.add(\"Carl\");\n",
    "\n",
    "for (int k = 0; k < students.size(); k++) {\n",
    "    System.out.println(students.set(k, \"Alex\") + \" \");\n",
    "}\n",
    "\n",
    "System.out.println();\n",
    "\n",
    "for (String str : students) {\n",
    "    System.out.print(str + \" \");\n",
    "}"
   ]
  },
  {
   "cell_type": "markdown",
   "metadata": {},
   "source": [
    "I got this one correct. It is a matter of ArrayLists, understanding their methods, and visualizing how loops work. At this point in the test, I was able to do so pretty well. Let's now go over each of the wrong choices and explain why they were wrong:\n",
    "\n",
    "**A:** This would be the case if the set method returned the value that was stored in the element after it was assigned “Alex” instead of returning the value being replaced \"Alex\".\n",
    "\n",
    "**B:** In this case the lines of output are reversed.\n",
    "\n",
    "**D:** This would the result if the first for loop used the get method instead of the set method.\n",
    "\n",
    "**E:** The set method can be used in the System.out.print() method, because it returns the value that was at this index before it was updated to “Alex”.\n",
    "\n",
    "Finally, choice **C** was correct. This is because the first for loop uses the set method to change the value of each element in students to “Alex”. When the set method is called, it returns the value that was originally at this index. So, the first loop will print Alex Bob Carl. At this point all elements have been set to “Alex”. The second for loop uses an enhanced for loop to access every element and will print Alex Alex Alex.\n",
    "\n",
    "If you got this wrong, I would suggest going back to ArrayList methods and how to traverse an ArrayList through different methods and algorithms. Since this was the student lesson I taught, I didn't struggle with these questions, and I also know how to help those who might be struggling."
   ]
  },
  {
   "cell_type": "markdown",
   "metadata": {},
   "source": [
    "### Popcorn Hack:\n",
    "\n",
    "Master ArrayList manipulation and loop comprehension by dissecting the code snippet, understanding the nuances of the `set` method, and creating a similar exercise that involves updating ArrayList elements for a comprehensive grasp of core concepts."
   ]
  }
 ],
 "metadata": {
  "kernelspec": {
   "display_name": "Java",
   "language": "java",
   "name": "java"
  },
  "language_info": {
   "codemirror_mode": "java",
   "file_extension": ".jshell",
   "mimetype": "text/x-java-source",
   "name": "java",
   "pygments_lexer": "java",
   "version": "17.0.8.1+1-Ubuntu-0ubuntu120.04"
  }
 },
 "nbformat": 4,
 "nbformat_minor": 2
}
