{
 "cells": [
  {
   "cell_type": "markdown",
   "metadata": {},
   "source": [
    "---\n",
    "comments: true\n",
    "layout: notebook\n",
    "title: Teaching Hacks\n",
    "description: Hacks completed for Tri 2 lessons\n",
    "type: tangibles\n",
    "toc: true\n",
    "courses: { csa: {week: 14} }\n",
    "categories: [C4.1]\n",
    "---"
   ]
  },
  {
   "cell_type": "markdown",
   "metadata": {},
   "source": [
    "## Unit 1: SASS Fundamentals"
   ]
  },
  {
   "cell_type": "markdown",
   "metadata": {},
   "source": [
    "Hack Question: Can you guess what its changing style of the text to? \n",
    "\n",
    "```css\n",
    "body {\n",
    "    color: #0000FF;\n",
    "    font-family: Ariel, sans-serif;\n",
    "    font-size: 16px;\n",
    "}\n",
    "```"
   ]
  },
  {
   "cell_type": "markdown",
   "metadata": {},
   "source": [
    "**Nesting**\n",
    "\n",
    "> What is nesting? \n",
    "    > Answer here (hack question): \n",
    "- Nesting is a way to organize your code and make it easier to read. It also helps keep your code <u>DRY (Don't Repeat Yourself)</u> . \n",
    "- Nesting is when you put one selector inside another selector. This is a great way to keep your code organized and make it easier to <u>read</u>. \n",
    "- When we make HTML we often nest different <u>elements</u> within each other and have a clear structure when we look at it.\n",
    "- The problem is that in regular CSS we don't have that so we need to use SASS to help us organize our code.\n",
    "\n",
    "- Warning: Don't nest too much as when the CSS is processed it can make overqualified selectors which can be hard to read and maintain. Which means that it would only target that specific element type and not any other elements that have the same class name.\n",
    "\n",
    "**Sass Nesting**\n",
    "- Through nesting the ul, li, and a selectors within the nav selector makes your CSS better and increases its readability overall."
   ]
  },
  {
   "cell_type": "markdown",
   "metadata": {},
   "source": [
    "**Variables**\n",
    "> What is a variable?\n",
    "- A variable is a container that stores <u>information</u> so for instance when you have multiple places that refer to one value you can just use the variable name instead of the value.\n",
    "- This is valuable in SASS because it allows you to reuse that <u>value</u> in multiple places throughout your stylesheet. \n",
    "- The $ symbol is used in Sass to designate a variable. \n",
    "\n",
    "Pro Tip: The reason SASS variables are better than variables in regular CSS is that they are easier to read with a much simpler syntax. \n",
    "\n",
    "Fun Fact: Variables in SASS came before CSS and often SASS has features long before they are actually added to CSS as a whole. \n",
    "\n",
    "**Variable Example Syntax**\n",
    "- $variable-name: value;\n",
    "- Once the sass is processed the variable name is replaced with the value throughout the program."
   ]
  },
  {
   "cell_type": "markdown",
   "metadata": {},
   "source": [
    "**Mixins**: What is a mix in what are we mixing in? Answer here (hack question): \n",
    "\n",
    "> A mixin is kind of a class. If you're taking the name \"mixin\" at face value, we're \"mixing in\" different styles that other elements can include.\n",
    "\n",
    "**Inheritance**\n",
    "> What is inheritance? Answer here (hack question): \n",
    "\n",
    "- In general programming concept where the child class can <u>inherit</u> properties from the <u>parent</u> class. These properties can be changed and modified in the <u>child</u> class. This prevents code from being repeated and makes the code more usable and flexible.\n",
    "- In SASS we have a similar concept that can be used as well we can create base styles and then have other styles inherit from them and then we can change them as we please. \n",
    "- We can do that by through using @extend .name-of-class and then we can add more styles to it as we please. Simple as that."
   ]
  },
  {
   "cell_type": "markdown",
   "metadata": {},
   "source": [
    "**SASS Demo**:\n",
    "\n",
    "Below is the SASS code I used:\n",
    "\n",
    "```scss\n",
    "  // Variables\n",
    "  $primary-color: #3498db;\n",
    "  $secondary-color: #2ecc71;\n",
    "  $card-background: #ecf0f1;\n",
    "  $card-hover: #bdc3c7;\n",
    "\n",
    "  // Mixins\n",
    "  @mixin transition($property: all, $duration: 0.3s, $timing-function: ease-in-out) {\n",
    "    transition: $property $duration $timing-function;\n",
    "  }\n",
    "\n",
    "  // Styles\n",
    "  .card {\n",
    "    background-color: $card-background;\n",
    "    border-radius: 8px;\n",
    "    padding: 20px;\n",
    "    margin: 20px;\n",
    "    width: 300px;\n",
    "    box-shadow: 0 2px 4px rgba(0, 0, 0, 0.1);\n",
    "\n",
    "    // Nesting and hover effect\n",
    "    &:hover {\n",
    "      background-color: $card-hover;\n",
    "    }\n",
    "\n",
    "    // Title styling\n",
    "    h2 {\n",
    "      color: $primary-color;\n",
    "      margin-bottom: 10px;\n",
    "    }\n",
    "\n",
    "    // Content styling\n",
    "    p {\n",
    "      color: $secondary-color;\n",
    "    }\n",
    "\n",
    "    // Apply transition mixin\n",
    "    @include transition(background-color);\n",
    "  }\n",
    "\n",
    "  // Usage example\n",
    "  .container {\n",
    "    display: flex;\n",
    "    justify-content: center;\n",
    "    align-items: center;\n",
    "    height: 100vh;\n",
    "  }\n",
    "\n",
    "  // Create multiple cards with different colors\n",
    "  .card-one {\n",
    "    @extend .card;\n",
    "    $card-background: #e74c3c;\n",
    "    $card-hover: #c0392b;\n",
    "  }\n",
    "\n",
    "  .card-two {\n",
    "    @extend .card;\n",
    "    $card-background: #f39c12;\n",
    "    $card-hover: #d35400;\n",
    "  }\n",
    "\n",
    "  .card-three {\n",
    "    @extend .card;\n",
    "    $card-background: #2c3e50;\n",
    "    $card-hover: #34495e;\n",
    "\n",
    "    h2 {\n",
    "      color: #e74c3c; // Customize title color for this card\n",
    "    }\n",
    "\n",
    "    p {\n",
    "      color: #f39c12; // Customize content color for this card\n",
    "    }\n",
    "  }\n",
    "```"
   ]
  },
  {
   "cell_type": "markdown",
   "metadata": {},
   "source": [
    "And here is the [running project](https://nvarap.github.io/CSA_Tri2_Project1/sass-ui-demo)"
   ]
  },
  {
   "cell_type": "markdown",
   "metadata": {},
   "source": [
    "**Reflection:**\n",
    "\n",
    "For my reflection, I wrote about why SASS is a great tool.\n",
    "\n",
    "SASS, or Syntactically Awesome Stylesheets, stands out as a powerful and efficient tool in the realm of web development. One of its key strengths lies in enhancing the maintainability and readability of CSS code. By introducing features like variables, nesting, and mixins, SASS simplifies the styling process, reducing redundancy and promoting a modular approach to design. The ability to create reusable code snippets through mixins not only streamlines development but also ensures consistency across a project. Furthermore, SASS facilitates the organization of stylesheets by allowing developers to nest styles within their respective components, making the codebase more intuitive. Additionally, SASS supports the use of mathematical operations and functions, enabling developers to express complex styling logic in a more concise and elegant manner. Overall, SASS empowers developers to write cleaner, more efficient CSS, saving time and effort while fostering a more maintainable and scalable codebase."
   ]
  },
  {
   "cell_type": "markdown",
   "metadata": {},
   "source": [
    "## Unit 2: UX/UI Through JQuery & CRUD"
   ]
  },
  {
   "cell_type": "markdown",
   "metadata": {},
   "source": [
    "**What is UX?**\n",
    "- UX is the shortform of <u>user experience</u>; a standard of understanding the <u>usability</u> of a product and optimise it based on data recived from users.\n",
    "\n",
    "- UX is a <u>necessity</u> in all industries since collecting UX and improving the product based on it increases the <u>popularity</u> of the product on the market, increasing profits of the company or collaboration.\n",
    "\n",
    "**What is jQuery?**\n",
    "\n",
    "- **jQuery** is a lightweight, \"<u>write less, do more</u>”, JavaScript library. The purpose of jQuery is to make it much easier to use JavaScript on your site and it simplifies many tasks that require many lines of JavaScript code to accomplish, wraping them into <u>methods</u> that you can call with a single line of code.\n",
    "\n",
    "- **jQuery** also simplifies a lot of the complicated things from JavaScript, like AJAX calls and DOM manipulation.\n",
    "\n",
    "- With jQuery you select (query) HTML elements and perform \"<u>actions</u>\" on them.\n",
    "\n",
    "- All jQuery methods begin inside a document <u>ready</u> event\n",
    "\n",
    "**Popcorn Hack: Name 3 other event HTML events**\n",
    "\n",
    "1. hover\n",
    "2. onpress\n",
    "3. onreload\n",
    "\n",
    "**What Does CRUD Stand For?**\n",
    "- Answer this as a Popcorn Hack: <u>Create, Read, Update, Delete</u>\n",
    "\n",
    "**Popcorn Hack: Complete the Jquery and JavaScript code**: This represents a website for buying dogs. The API contains an id, name, price, and breed for each dog. Display them all as html using jQuery."
   ]
  },
  {
   "cell_type": "markdown",
   "metadata": {},
   "source": [
    "```html\n",
    "<head>\n",
    "    <script src=\"https://ajax.googleapis.com/ajax/libs/jquery/3.5.1/jquery.min.js\"></script>\n",
    "    <style>\n",
    "        .dog {\n",
    "            border: 1px solid #ddd;\n",
    "            margin-bottom: 20px;\n",
    "            padding: 20px;\n",
    "            border-radius: 5px;\n",
    "        }\n",
    "        .price {\n",
    "            color: #007BFF;\n",
    "        }\n",
    "    </style>\n",
    "</head>\n",
    "<body>\n",
    "\n",
    "<div id=\"dogs\"></div>\n",
    "\n",
    "<script>\n",
    "// Fake API function\n",
    "function getAPI() {\n",
    "    return [\n",
    "        {id: 1, name: 'Max', price: '$1000', breed: 'Golden Retriever'},\n",
    "        {id: 2, name: 'Bella', price: '$800', breed: 'Labrador Retriever'},\n",
    "        {id: 3, name: 'Charlie', price: '$1200', breed: 'German Shepherd'}\n",
    "    ];\n",
    "}\n",
    "\n",
    "$(document).ready(function(){\n",
    "    var dogs = getAPI();\n",
    "    $.each(dogs, function(i, dog) {\n",
    "        var dogHtml = '<div class=\"dog\"><h2>Dog ' + dog.id + '</h2><p>Name: ' + dog.name + '</p><p>Breed: ' + dog.breed + '</p><p class=\"price\">Price: ' + dog.price + '</p></div>';\n",
    "        $('#dogs').append(dogHtml);\n",
    "    });\n",
    "});\n",
    "</script>\n",
    "</body>\n",
    "```"
   ]
  },
  {
   "cell_type": "markdown",
   "metadata": {},
   "source": [
    "In the following example, write in one of the comments where the selector is (popcorn hack ~ raise hand when found)"
   ]
  },
  {
   "cell_type": "code",
   "execution_count": null,
   "metadata": {},
   "outputs": [],
   "source": [
    "$(document).ready(function(){     // \n",
    "    $(\"button\").click(function(){ // Selector\n",
    "      $(\"p\").hide();              // Selector\n",
    "    });                           //\n",
    "  });                             //"
   ]
  },
  {
   "cell_type": "markdown",
   "metadata": {},
   "source": [
    "**All Hacks Done**"
   ]
  },
  {
   "cell_type": "markdown",
   "metadata": {},
   "source": [
    "## Unit 3: ThymeLeaf"
   ]
  },
  {
   "cell_type": "markdown",
   "metadata": {},
   "source": [
    "**Popcorn Hack:**\n",
    "\n",
    "Summarize the key features of Thymeleaf and explain why it is preferred for server-side rendering in Spring applications.\n",
    "\n",
    "<u>Without Thymeleaf, we make projects with two parts, a frontend and a backend. With Thymeleaf, you can use server-side techniques to make it so that your frontend is on the same project as your backend, making the project size more optimal.</u>"
   ]
  },
  {
   "cell_type": "markdown",
   "metadata": {},
   "source": [
    "**Popcorn Hacks:**\n",
    "\n",
    "What do you think the Model model means and why is it important?\n",
    "\n",
    "- Answer Here: <u>The model parameter is a database or part of a database, represented as a class in the backend, that will store data such as a username, age, and email that can later be pulled by the frontend.</u>"
   ]
  },
  {
   "cell_type": "markdown",
   "metadata": {},
   "source": [
    "**PopCorn Hack:**\n",
    "\n",
    "List 3 more Attributes of Thymleaf in the Frontend:\n",
    "\n",
    "1. th:switch (similar to switch-case functionality in Java)\n",
    "2. th:fragment (similar to div elemeent in HTML)\n",
    "3. th:object (similar to instantiation in Java)"
   ]
  },
  {
   "cell_type": "markdown",
   "metadata": {},
   "source": [
    "**Hacks**\n",
    "\n",
    "Create a controller that uses the model function, then in html use the methods in Thymeleaf that were taught. Extra Points For creativity."
   ]
  },
  {
   "cell_type": "markdown",
   "metadata": {},
   "source": [
    "Java:"
   ]
  },
  {
   "cell_type": "code",
   "execution_count": null,
   "metadata": {},
   "outputs": [],
   "source": [
    "import org.springframework.stereotype.Controller;\n",
    "import org.springframework.ui.Model;\n",
    "import org.springframework.web.bind.annotation.GetMapping;\n",
    "\n",
    "@Controller\n",
    "public class ProductController {\n",
    "\n",
    "    @GetMapping(\"/product\")\n",
    "    public String getProduct(Model model) {\n",
    "   \n",
    "        String productName = \"Smartphone\";\n",
    "        double price = 599.99;\n",
    "        String description = \"High-end smartphone with advanced features\";\n",
    "        String imageUrl = \"https://example.com/smartphone-image.jpg\";\n",
    "        model.addAttribute(\"productName\", productName);\n",
    "        model.addAttribute(\"price\", price);\n",
    "        model.addAttribute(\"description\", description);\n",
    "        model.addAttribute(\"imageUrl\", imageUrl);\n",
    "        return \"productDetails\";\n",
    "    }\n",
    "}"
   ]
  },
  {
   "cell_type": "markdown",
   "metadata": {},
   "source": [
    "HTML:\n",
    "\n",
    "```html\n",
    "<!DOCTYPE html>\n",
    "<html xmlns:th=\"http://www.thymeleaf.org\">\n",
    "<head>\n",
    "    <meta charset=\"UTF-8\">\n",
    "    <title>Product Details</title>\n",
    "</head>\n",
    "<body>\n",
    "\n",
    "    <h1 th:text=\"${productName}\"></h1>\n",
    "\n",
    "    <div>\n",
    "        <img th:src=\"${imageUrl}\" alt=\"Product Image\" style=\"max-width: 300px;\"/>\n",
    "    </div>\n",
    "\n",
    "    <p th:text=\"'Price: $' + ${price}\"></p>\n",
    "\n",
    "    <p th:text=\"${description}\"></p>\n",
    "\n",
    "</body>\n",
    "</html>\n",
    "```"
   ]
  },
  {
   "cell_type": "markdown",
   "metadata": {},
   "source": [
    "I committed my backend hacks to a branch that you can find [here](https://github.com/PaarasPurohit/grouplesson_backend/commit/9ef1aefb3b09da70b5d886f1b5cc49c74ef70334)."
   ]
  },
  {
   "cell_type": "markdown",
   "metadata": {},
   "source": [
    "## Unit 4: HashMap"
   ]
  },
  {
   "cell_type": "markdown",
   "metadata": {},
   "source": [
    "**Hashing**\n",
    "- HashMap uses a hash function to map <u>keys</u> to their respective <u>buckets</u>.\n",
    "- A good hash function generates a unique hash code for each key, but <u>collisions</u> can still occur.\n",
    "- The hash map in Java does not maintain insertion order.\n",
    "\n",
    "**Key and Value Types**\n",
    "\n",
    "- HashMap allows any <u>non-null</u> object as a key and any <u>object</u> (including null) as a value.\n",
    "- For a class to be used as a key, it must implement the <u>get</u> and <u>put</u> methods.\n",
    "\n",
    "**Iteration**\n",
    "\n",
    "- HashMap provides methods like keySet(), values(), and entrySet() for iterating over key-value pairs.\n",
    "- The entrySet() method returns a Set view of key-value pairs, allowing <u>iteration</u> and <u>moderation</u>."
   ]
  },
  {
   "cell_type": "markdown",
   "metadata": {},
   "source": [
    "**Popcorn Hack 1**\n",
    "Declare a Hashmap, and then research 5 different HashMap method which were not listed above and use them in your code just like the one above."
   ]
  },
  {
   "cell_type": "code",
   "execution_count": null,
   "metadata": {},
   "outputs": [
    {
     "name": "stdout",
     "output_type": "stream",
     "text": [
      "Jaiswal\n",
      "false\n",
      "4\n",
      "[Gnanam, Nawendhar, Jaiswal, Nibhanupudi]\n"
     ]
    }
   ],
   "source": [
    "HashMap<String, String> hashMap = new HashMap<>();\n",
    "       \n",
    "hashMap.put(\"Paaras\", \"Purohit\");\n",
    "hashMap.put(\"Rachit\", \"Jaiswal\");\n",
    "hashMap.put(\"Varaprasad\", \"Nibhanupudi\");\n",
    "hashMap.put(\"Harshavaratan\", \"Gnanam\");\n",
    "hashMap.put(\"Aditya\", \"Nawendhar\");\n",
    "\n",
    "hashMap.remove(\"Paaras\");\n",
    "String lastName = hashMap.get(\"Rachit\");\n",
    "boolean isEmpty = hashMap.isEmpty();\n",
    "int size = hashMap.size();\n",
    "Collection values = hashMap.values();\n",
    "\n",
    "System.out.println(lastName);\n",
    "System.out.println(isEmpty);\n",
    "System.out.println(size);\n",
    "System.out.println(values);"
   ]
  },
  {
   "cell_type": "markdown",
   "metadata": {},
   "source": [
    "**Popcorn Hack 2 (Extra Credit)**\n",
    "Try to find a different way to traverse a HashMap (Hint: try using a forEach function)"
   ]
  },
  {
   "cell_type": "code",
   "execution_count": 2,
   "metadata": {},
   "outputs": [
    {
     "name": "stdout",
     "output_type": "stream",
     "text": [
      "Key: Bob, Value: 28\n",
      "Key: Eve, Value: 22\n",
      "Key: Alice, Value: 30\n",
      "Key: John, Value: 25\n"
     ]
    }
   ],
   "source": [
    "import java.util.HashMap;\n",
    "import java.util.Map;\n",
    "\n",
    "public class HashMapTraversalExample {\n",
    "\n",
    "    public static void main(String[] args) {\n",
    "\n",
    "        Map<String, Integer> hashMap = new HashMap<>();\n",
    "        hashMap.put(\"John\", 25);\n",
    "        hashMap.put(\"Alice\", 30);\n",
    "        hashMap.put(\"Bob\", 28);\n",
    "        hashMap.put(\"Eve\", 22);\n",
    "        for (Map.Entry<String, Integer> entry : hashMap.entrySet()) {\n",
    "            String key = entry.getKey();\n",
    "            Integer value = entry.getValue();\n",
    "            System.out.println(\"Key: \" + key + \", Value: \" + value);\n",
    "        }\n",
    "    }\n",
    "}\n",
    "HashMapTraversalExample.main(null);"
   ]
  },
  {
   "cell_type": "markdown",
   "metadata": {},
   "source": [
    "**Popcorn HACK 3 (Shaurya)**:"
   ]
  },
  {
   "cell_type": "code",
   "execution_count": null,
   "metadata": {},
   "outputs": [],
   "source": [
    "import java.util.HashMap;\n",
    "import java.util.Map;\n",
    "\n",
    "public class HashMapTest {\n",
    "    public static void main(String[] args) {\n",
    "        // Create a new HashMap with Integer keys and String values\n",
    "        Map<Integer, String> myMap = new HashMap<>();\n",
    "\n",
    "        // Add some key-value pairs to the HashMap\n",
    "        myMap.put(1, \"Apple\");\n",
    "        myMap.put(2, \"Banana\");\n",
    "        myMap.put(3, \"Cherry\");\n",
    "\n",
    "        // Fill in the blanks: Retrieve and print the value for key 2\n",
    "        String valueForKey2 = myMap.get(2);\n",
    "        System.out.println(\"Value for key 2: \" + valueForKey2);\n",
    "\n",
    "        // Fill in the blanks: Check if the HashMap contains key 4\n",
    "        boolean containsKey4 = myMap.containsKey(4);\n",
    "        System.out.println(\"Does the map contain key 4? \" + containsKey4);\n",
    "\n",
    "        // Fill in the blanks: Remove the entry with key 1 from the HashMap\n",
    "        myMap.remove(1);\n",
    "\n",
    "        // Print the updated contents of the HashMap\n",
    "        System.out.println(\"Updated HashMap:\");\n",
    "        for (Map.Entry<Integer, String> entry : myMap.entrySet()) {\n",
    "            System.out.println(\"Key: \" + entry.getKey() + \", Value: \" + entry.getValue());\n",
    "        }\n",
    "    }\n",
    "}\n",
    "HashMapTest.main(null);"
   ]
  },
  {
   "cell_type": "markdown",
   "metadata": {},
   "source": [
    "**Popcorn HACK 4 - Quiz (Shaurya)**\n",
    "\n",
    "**Multiple Choice:**\n",
    "\n",
    "**Question 1: Hashing in HashMap**\n",
    "\n",
    "What is the primary purpose of a hash function in a HashMap?\n",
    "\n",
    "- A) <mark>To encrypt the keys </mark>\n",
    "- B) To map keys to corresponding buckets\n",
    "- C) To validate the keys\n",
    "- D) To generate random numbers\n",
    "\n",
    "**Question 2: Performance of HashMap**\n",
    "\n",
    "What is the time complexity of the get() and put() operations in a well-distributed HashMap?\n",
    "\n",
    "- A) O(log n)\n",
    "- B) <mark>O(n)</mark>\n",
    "- C) O(1)\n",
    "- D) O(n^2)\n",
    "\n",
    "**Free Response:**\n",
    "\n",
    "**Question 3: Key and Value Types in HashMap**\n",
    "\n",
    "Describe the types of objects that can be used as keys and values in a HashMap. Additionally, explain the methods that a class should implement if used as a key.\n",
    "\n",
    "<u>For basic cases, primitive types are used as keys and values in a HashMap. However, any data type of any type of class can be used as a key and value. If a class is used as a key or value, it needs to use the constructor method.</u>\n",
    "\n",
    "**Question 4: Iteration in HashMap**\n",
    "\n",
    "Provide brief explanations for two methods in HashMap that can be used to iterate over its key-value pairs.\n",
    "\n",
    "<u>There are more than two. You can use pretty much any type of loop. The best two to use are either a for or for-each loop, because using them to iterate through a list is more efficient to code with.</u>\n",
    "\n",
    "**Question 5: Thread Safety in HashMap**\n",
    "\n",
    "Explain why HashMap is not thread-safe and what issues might arise when multiple threads access the same HashMap instance concurrently. Suggest an alternative class that can be used for concurrent access and explain its benefits.\n",
    "\n",
    "<u>Based on the lesson, the type of HashMap you would want to use for threads is ConcurrentHashMap, which is built to handle asynchronous and concurrent threading, unlike the regular HashMap.</u>"
   ]
  },
  {
   "cell_type": "markdown",
   "metadata": {},
   "source": [
    "Java for Hack:"
   ]
  },
  {
   "cell_type": "code",
   "execution_count": 4,
   "metadata": {},
   "outputs": [
    {
     "name": "stdout",
     "output_type": "stream",
     "text": [
      "1. Add new player\n",
      "2. Update player information\n",
      "3. Search for player by jersey number\n",
      "4. Exit\n",
      "Enter your choice: Enter player name: Enter player position: Enter player jersey number: Player added successfully!\n",
      "1. Add new player\n",
      "2. Update player information\n",
      "3. Search for player by jersey number\n",
      "4. Exit\n",
      "Enter your choice: Exiting the program.\n"
     ]
    },
    {
     "ename": "",
     "evalue": "",
     "output_type": "error",
     "traceback": [
      "\u001b[1;31mThe Kernel crashed while executing code in the the current cell or a previous cell. Please review the code in the cell(s) to identify a possible cause of the failure. Click <a href='https://aka.ms/vscodeJupyterKernelCrash'>here</a> for more info. View Jupyter <a href='command:jupyter.viewOutput'>log</a> for further details."
     ]
    }
   ],
   "source": [
    "import java.util.HashMap;\n",
    "import java.util.Map;\n",
    "import java.util.Scanner;\n",
    "\n",
    "public class SportsTeamRoster {\n",
    "\n",
    "    public static void main(String[] args) {\n",
    "        Map<Integer, Player> roster = new HashMap<>();\n",
    "        Scanner scanner = new Scanner(System.in);\n",
    "\n",
    "        while (true) {\n",
    "            System.out.println(\"1. Add new player\");\n",
    "            System.out.println(\"2. Update player information\");\n",
    "            System.out.println(\"3. Search for player by jersey number\");\n",
    "            System.out.println(\"4. Exit\");\n",
    "            System.out.print(\"Enter your choice: \");\n",
    "\n",
    "            int choice = scanner.nextInt();\n",
    "            scanner.nextLine();\n",
    "\n",
    "            switch (choice) {\n",
    "                case 1:\n",
    "                    addPlayer(roster, scanner);\n",
    "                    break;\n",
    "                case 2:\n",
    "                    updatePlayer(roster, scanner);\n",
    "                    break;\n",
    "                case 3:\n",
    "                    searchPlayerByJerseyNumber(roster, scanner);\n",
    "                    break;\n",
    "                case 4:\n",
    "                    System.out.println(\"Exiting the program.\");\n",
    "                    System.exit(0);\n",
    "                    break;\n",
    "                default:\n",
    "                    System.out.println(\"Invalid choice. Please enter a valid option.\");\n",
    "            }\n",
    "        }\n",
    "    }\n",
    "\n",
    "    private static void addPlayer(Map<Integer, Player> roster, Scanner scanner) {\n",
    "        System.out.print(\"Enter player name: \");\n",
    "        String name = scanner.nextLine();\n",
    "\n",
    "        System.out.print(\"Enter player position: \");\n",
    "        String position = scanner.nextLine();\n",
    "\n",
    "        System.out.print(\"Enter player jersey number: \");\n",
    "        int jerseyNumber = scanner.nextInt();\n",
    "\n",
    "        Player player = new Player(name, position, jerseyNumber);\n",
    "        roster.put(jerseyNumber, player);\n",
    "\n",
    "        System.out.println(\"Player added successfully!\");\n",
    "    }\n",
    "\n",
    "    private static void updatePlayer(Map<Integer, Player> roster, Scanner scanner) {\n",
    "        System.out.print(\"Enter player's jersey number to update: \");\n",
    "        int jerseyNumber = scanner.nextInt();\n",
    "\n",
    "        if (roster.containsKey(jerseyNumber)) {\n",
    "            System.out.print(\"Enter new player name: \");\n",
    "            String name = scanner.nextLine();\n",
    "\n",
    "            System.out.print(\"Enter new player position: \");\n",
    "            String position = scanner.nextLine();\n",
    "\n",
    "            Player updatedPlayer = new Player(name, position, jerseyNumber);\n",
    "            roster.put(jerseyNumber, updatedPlayer);\n",
    "\n",
    "            System.out.println(\"Player information updated successfully!\");\n",
    "        } else {\n",
    "            System.out.println(\"Player not found with jersey number \" + jerseyNumber);\n",
    "        }\n",
    "    }\n",
    "\n",
    "    private static void searchPlayerByJerseyNumber(Map<Integer, Player> roster, Scanner scanner) {\n",
    "        System.out.print(\"Enter player's jersey number to search: \");\n",
    "        int jerseyNumber = scanner.nextInt();\n",
    "\n",
    "        if (roster.containsKey(jerseyNumber)) {\n",
    "            Player player = roster.get(jerseyNumber);\n",
    "            System.out.println(\"Player found:\");\n",
    "            System.out.println(player);\n",
    "        } else {\n",
    "            System.out.println(\"Player not found with jersey number \" + jerseyNumber);\n",
    "        }\n",
    "    }\n",
    "\n",
    "    static class Player {\n",
    "        private String name;\n",
    "        private String position;\n",
    "        private int jerseyNumber;\n",
    "\n",
    "        public Player(String name, String position, int jerseyNumber) {\n",
    "            this.name = name;\n",
    "            this.position = position;\n",
    "            this.jerseyNumber = jerseyNumber;\n",
    "        }\n",
    "\n",
    "        @Override\n",
    "        public String toString() {\n",
    "            return \"Name: \" + name + \", Position: \" + position + \", Jersey Number: \" + jerseyNumber;\n",
    "        }\n",
    "    }\n",
    "}\n",
    "\n",
    "SportsTeamRoster.main(null);"
   ]
  },
  {
   "cell_type": "markdown",
   "metadata": {},
   "source": [
    "I didn't and won't do the Collections hacks due to the lesson being cut off and the lesson itself not being too clear on it. To make up for this, I will be practicing these concepts in CollegeBoard as well as doing my own research into Collections to implement them in my project."
   ]
  }
 ],
 "metadata": {
  "kernelspec": {
   "display_name": "Java",
   "language": "java",
   "name": "java"
  },
  "language_info": {
   "codemirror_mode": "java",
   "file_extension": ".jshell",
   "mimetype": "text/x-java-source",
   "name": "java",
   "pygments_lexer": "java",
   "version": "17.0.8.1+1-Ubuntu-0ubuntu120.04"
  }
 },
 "nbformat": 4,
 "nbformat_minor": 2
}
